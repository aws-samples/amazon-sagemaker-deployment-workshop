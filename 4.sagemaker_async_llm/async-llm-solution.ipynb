{
 "cells": [
  {
   "cell_type": "code",
   "execution_count": 30,
   "id": "05593322-a855-4456-b00d-9fe8e5840081",
   "metadata": {
    "tags": []
   },
   "outputs": [
    {
     "name": "stdout",
     "output_type": "stream",
     "text": [
      "\u001b[31mERROR: pip's dependency resolver does not currently take into account all the packages that are installed. This behaviour is the source of the following dependency conflicts.\n",
      "awscli 1.29.63 requires botocore==1.31.63, but you have botocore 1.32.2 which is incompatible.\n",
      "distributed 2022.7.0 requires tornado<6.2,>=6.0.3, but you have tornado 6.3.3 which is incompatible.\u001b[0m\u001b[31m\n",
      "\u001b[0m\u001b[33mWARNING: Running pip as the 'root' user can result in broken permissions and conflicting behaviour with the system package manager. It is recommended to use a virtual environment instead: https://pip.pypa.io/warnings/venv\u001b[0m\u001b[33m\n",
      "\u001b[0m\n",
      "\u001b[1m[\u001b[0m\u001b[34;49mnotice\u001b[0m\u001b[1;39;49m]\u001b[0m\u001b[39;49m A new release of pip is available: \u001b[0m\u001b[31;49m23.2.1\u001b[0m\u001b[39;49m -> \u001b[0m\u001b[32;49m23.3.1\u001b[0m\n",
      "\u001b[1m[\u001b[0m\u001b[34;49mnotice\u001b[0m\u001b[1;39;49m]\u001b[0m\u001b[39;49m To update, run: \u001b[0m\u001b[32;49mpip install --upgrade pip\u001b[0m\n"
     ]
    }
   ],
   "source": [
    "!pip install sagemaker boto3 huggingface_hub --upgrade --quiet"
   ]
  },
  {
   "cell_type": "code",
   "execution_count": 60,
   "id": "3d643104-bcb6-4e8b-8836-84ae7a19dd27",
   "metadata": {
    "tags": []
   },
   "outputs": [],
   "source": [
    "import sagemaker\n",
    "from sagemaker import image_uris\n",
    "import boto3\n",
    "from huggingface_hub import snapshot_download\n",
    "from pathlib import Path\n",
    "import jinja2\n",
    "from time import gmtime, strftime\n",
    "from sagemaker.spark.processing import PySparkProcessor\n",
    "import re"
   ]
  },
  {
   "cell_type": "markdown",
   "id": "d845be2b-ad4c-4361-9b70-1e4adbd92e39",
   "metadata": {},
   "source": [
    "Step 1: create the needed resources using the CFN"
   ]
  },
  {
   "cell_type": "code",
   "execution_count": 25,
   "id": "b3e5a584-5037-457e-9f18-028ea9736c6d",
   "metadata": {
    "tags": []
   },
   "outputs": [],
   "source": [
    "cloudformation = boto3.client('cloudformation')\n",
    "\n",
    "template_body = open('resource_cfn.yaml').read()\n",
    "\n",
    "stack_name = 'async-llm-demo-resource-creation-stack'\n",
    "\n",
    "response = cloudformation.create_stack(\n",
    "    StackName=stack_name,\n",
    "    TemplateBody=template_body,\n",
    "    Capabilities=['CAPABILITY_IAM']\n",
    ")\n",
    "\n",
    "cloudformation.get_waiter('stack_create_complete').wait(StackName=stack_name)\n",
    "\n",
    "outputs = cloudformation.describe_stacks(StackName=stack_name)['Stacks'][0]['Outputs']\n",
    "\n",
    "for output in outputs:\n",
    "    if output['OutputKey'] == 'BucketName':\n",
    "        BucketName = output['OutputValue']\n",
    "    elif output['OutputKey'] == 'AsyncEndpointDDBTable':  \n",
    "        AsyncEndpointDDBTable = output['OutputValue']\n",
    "    elif output['OutputKey'] == 'SuccessInvocationTopic':  \n",
    "        SuccessInvocationTopic = output['OutputValue']\n",
    "    elif output['OutputKey'] == 'FailedInvocationTopic':  \n",
    "        FailedInvocationTopic = output['OutputValue']"
   ]
  },
  {
   "cell_type": "markdown",
   "id": "a192ad14-9adc-4ea7-8d9b-b2cfad0df48b",
   "metadata": {},
   "source": [
    "Step 2: create Async Endpoint"
   ]
  },
  {
   "cell_type": "code",
   "execution_count": 28,
   "id": "0e5d4ec8-068d-4084-9fdf-2ce2b8579f4f",
   "metadata": {
    "tags": []
   },
   "outputs": [],
   "source": [
    "blip_model_version = \"blip2-flan-t5-xl\"\n",
    "model_names = {\n",
    "    \"caption_model_name\": blip_model_version, #@param [\"blip-base\", \"blip-large\", \"blip2-flan-t5-xl\"]\n",
    "}\n",
    "with open(\"blip2/model_name.json\",'w') as file:\n",
    "    json.dump(model_names, file)"
   ]
  },
  {
   "cell_type": "code",
   "execution_count": 32,
   "id": "90039755-452a-4434-b4f6-f97b410c92cf",
   "metadata": {
    "tags": []
   },
   "outputs": [
    {
     "data": {
      "application/vnd.jupyter.widget-view+json": {
       "model_id": "ef32820a1a5940fbb503fc3e2bd41b20",
       "version_major": 2,
       "version_minor": 0
      },
      "text/plain": [
       "Fetching 9 files:   0%|          | 0/9 [00:00<?, ?it/s]"
      ]
     },
     "metadata": {},
     "output_type": "display_data"
    },
    {
     "data": {
      "application/vnd.jupyter.widget-view+json": {
       "model_id": "91639b7d7fb649c282b20cf6b868b176",
       "version_major": 2,
       "version_minor": 0
      },
      "text/plain": [
       "(…)e9c05a443a226614/special_tokens_map.json:   0%|          | 0.00/2.20k [00:00<?, ?B/s]"
      ]
     },
     "metadata": {},
     "output_type": "display_data"
    },
    {
     "data": {
      "application/vnd.jupyter.widget-view+json": {
       "model_id": "f64688a18db6498f8379e96b60048494",
       "version_major": 2,
       "version_minor": 0
      },
      "text/plain": [
       "(…)a443a226614/pytorch_model.bin.index.json:   0%|          | 0.00/128k [00:00<?, ?B/s]"
      ]
     },
     "metadata": {},
     "output_type": "display_data"
    },
    {
     "data": {
      "application/vnd.jupyter.widget-view+json": {
       "model_id": "2828250d37704ff984f3fea62353acc5",
       "version_major": 2,
       "version_minor": 0
      },
      "text/plain": [
       "(…)d4d1c37753c7e9c05a443a226614/config.json:   0%|          | 0.00/7.68k [00:00<?, ?B/s]"
      ]
     },
     "metadata": {},
     "output_type": "display_data"
    },
    {
     "data": {
      "application/vnd.jupyter.widget-view+json": {
       "model_id": "b9e6f08fec684a798ea1c2a988bdd11c",
       "version_major": 2,
       "version_minor": 0
      },
      "text/plain": [
       "(…)1c37753c7e9c05a443a226614/tokenizer.json:   0%|          | 0.00/2.42M [00:00<?, ?B/s]"
      ]
     },
     "metadata": {},
     "output_type": "display_data"
    },
    {
     "data": {
      "application/vnd.jupyter.widget-view+json": {
       "model_id": "0486d761a0b6457c935080b9121ca1b9",
       "version_major": 2,
       "version_minor": 0
      },
      "text/plain": [
       "(…)9c05a443a226614/preprocessor_config.json:   0%|          | 0.00/432 [00:00<?, ?B/s]"
      ]
     },
     "metadata": {},
     "output_type": "display_data"
    },
    {
     "data": {
      "application/vnd.jupyter.widget-view+json": {
       "model_id": "ded51ad4c2844a76ae6321e9a2df0822",
       "version_major": 2,
       "version_minor": 0
      },
      "text/plain": [
       "pytorch_model-00001-of-00002.bin:   0%|          | 0.00/9.44G [00:00<?, ?B/s]"
      ]
     },
     "metadata": {},
     "output_type": "display_data"
    },
    {
     "data": {
      "application/vnd.jupyter.widget-view+json": {
       "model_id": "c413e3bb20f94f24ab6426d9fac93914",
       "version_major": 2,
       "version_minor": 0
      },
      "text/plain": [
       "spiece.model:   0%|          | 0.00/792k [00:00<?, ?B/s]"
      ]
     },
     "metadata": {},
     "output_type": "display_data"
    },
    {
     "data": {
      "application/vnd.jupyter.widget-view+json": {
       "model_id": "af1ea1c98cbb416fbacb8b56c3486fc6",
       "version_major": 2,
       "version_minor": 0
      },
      "text/plain": [
       "pytorch_model-00002-of-00002.bin:   0%|          | 0.00/6.33G [00:00<?, ?B/s]"
      ]
     },
     "metadata": {},
     "output_type": "display_data"
    },
    {
     "data": {
      "application/vnd.jupyter.widget-view+json": {
       "model_id": "7366eebc76a14855b2565549dd796b2a",
       "version_major": 2,
       "version_minor": 0
      },
      "text/plain": [
       "(…)c7e9c05a443a226614/tokenizer_config.json:   0%|          | 0.00/2.54k [00:00<?, ?B/s]"
      ]
     },
     "metadata": {},
     "output_type": "display_data"
    }
   ],
   "source": [
    "s3_model_prefix = \"model_blip2\"\n",
    "pretrained_model_location = f\"s3://{BucketName}/{s3_model_prefix}/\"\n",
    "\n",
    "CAPTION_MODELS = {\n",
    "    'blip-base': 'Salesforce/blip-image-captioning-base',   # 990MB\n",
    "    'blip-large': 'Salesforce/blip-image-captioning-large', # 1.9GB\n",
    "    'blip2-2.7b': 'Salesforce/blip2-opt-2.7b',              # 15.5GB\n",
    "    'blip2-flan-t5-xl': 'Salesforce/blip2-flan-t5-xl',      # 15.77GB\n",
    "}\n",
    "\n",
    "# - This will download the model into the current directory where ever the jupyter notebook is running\n",
    "local_model_path = Path(\"./blip2-model\")\n",
    "local_model_path.mkdir(exist_ok=True)\n",
    "model_name = CAPTION_MODELS[blip_model_version]\n",
    "# Only download pytorch checkpoint files\n",
    "allow_patterns = [\"*.json\", \"*.pt\", \"*.bin\", \"*.txt\", \"*.model\"]\n",
    "\n",
    "# - Leverage the snapshot library to donload the model since the model is stored in repository using LFS\n",
    "model_download_path = snapshot_download(\n",
    "    repo_id=model_name,\n",
    "    cache_dir=local_model_path,\n",
    "    allow_patterns=allow_patterns,\n",
    ")"
   ]
  },
  {
   "cell_type": "code",
   "execution_count": 65,
   "id": "a4c60793-ece6-460a-8f21-65b1ae5dae9b",
   "metadata": {
    "tags": []
   },
   "outputs": [
    {
     "name": "stdout",
     "output_type": "stream",
     "text": [
      "sagemaker.config INFO - Not applying SDK defaults from location: /etc/xdg/sagemaker/config.yaml\n",
      "sagemaker.config INFO - Not applying SDK defaults from location: /root/.config/sagemaker/config.yaml\n",
      "Model uploaded to --- > s3://async-endpoint-with-llm-demo-544169759337/model_blip2\n",
      "We will set option.s3url=s3://async-endpoint-with-llm-demo-544169759337/model_blip2\n"
     ]
    }
   ],
   "source": [
    "sess = sagemaker.session.Session(default_bucket=BucketName)  \n",
    "# upload the model artifacts to s3\n",
    "model_artifact = sess.upload_data(path=model_download_path, key_prefix=s3_model_prefix)\n",
    "print(f\"Model uploaded to --- > {model_artifact}\")\n",
    "print(f\"We will set option.s3url={model_artifact}\")"
   ]
  },
  {
   "cell_type": "code",
   "execution_count": 35,
   "id": "d99b939f-c48f-402f-9f1b-6ff7e964c85a",
   "metadata": {
    "tags": []
   },
   "outputs": [
    {
     "name": "stdout",
     "output_type": "stream",
     "text": [
      "Overwriting blip2/serving.properties\n"
     ]
    }
   ],
   "source": [
    "%%writefile blip2/serving.properties\n",
    "engine = Python\n",
    "option.tensor_parallel_degree = 1\n",
    "option.model_id = {{s3url}}"
   ]
  },
  {
   "cell_type": "code",
   "execution_count": 41,
   "id": "fddce8bd-ddde-4dc9-9db2-f151131962f7",
   "metadata": {
    "tags": []
   },
   "outputs": [
    {
     "name": "stdout",
     "output_type": "stream",
     "text": [
      "     1\t\u001b[36mengine\u001b[39;49;00m\u001b[37m \u001b[39;49;00m=\u001b[37m \u001b[39;49;00m\u001b[33mPython\u001b[39;49;00m\u001b[37m\u001b[39;49;00m\n",
      "     2\t\u001b[36moption.tensor_parallel_degree\u001b[39;49;00m\u001b[37m \u001b[39;49;00m=\u001b[37m \u001b[39;49;00m\u001b[33m1\u001b[39;49;00m\u001b[37m\u001b[39;49;00m\n",
      "     3\t\u001b[36moption.model_id\u001b[39;49;00m\u001b[37m \u001b[39;49;00m=\u001b[37m \u001b[39;49;00m\u001b[33ms3://async-endpoint-with-llm-demo-544169759337/model_blip2/\u001b[39;49;00m\u001b[37m\u001b[39;49;00m\n"
     ]
    }
   ],
   "source": [
    "jinja_env = jinja2.Environment()\n",
    "template = jinja_env.from_string(Path(\"blip2/serving.properties\").open().read())\n",
    "Path(\"blip2/serving.properties\").open(\"w\").write(\n",
    "    template.render(s3url=pretrained_model_location)\n",
    ")\n",
    "!pygmentize blip2/serving.properties | cat -n"
   ]
  },
  {
   "cell_type": "code",
   "execution_count": 42,
   "id": "c2bf531b-f3f5-4d2f-9ea3-8bbc7e6819f4",
   "metadata": {
    "tags": []
   },
   "outputs": [
    {
     "name": "stdout",
     "output_type": "stream",
     "text": [
      "blip2/\n",
      "blip2/model.py\n",
      "blip2/requirements.txt\n",
      "blip2/.ipynb_checkpoints/\n",
      "blip2/.ipynb_checkpoints/serving-checkpoint.properties\n",
      "blip2/.ipynb_checkpoints/model-checkpoint.py\n",
      "blip2/.ipynb_checkpoints/requirements-checkpoint.txt\n",
      "blip2/model_name.json\n",
      "blip2/serving.properties\n"
     ]
    }
   ],
   "source": [
    "%%sh\n",
    "tar czvf model.tar.gz blip2/"
   ]
  },
  {
   "cell_type": "code",
   "execution_count": 45,
   "id": "cb0e504e-cb80-46d1-ba46-6d91c8d210ab",
   "metadata": {
    "tags": []
   },
   "outputs": [
    {
     "name": "stdout",
     "output_type": "stream",
     "text": [
      "S3 Code or Model tar ball uploaded to --- > s3://async-endpoint-with-llm-demo-544169759337/blip2/model.tar.gz\n"
     ]
    }
   ],
   "source": [
    "s3_code_prefix = \"blip2\" \n",
    "s3_code_artifact = sess.upload_data(\"model.tar.gz\",BucketName, s3_code_prefix)\n",
    "print(f\"S3 Code or Model tar ball uploaded to --- > {s3_code_artifact}\")\n",
    "ModelDataS3URLParameter = s3_code_artifact"
   ]
  },
  {
   "cell_type": "code",
   "execution_count": 27,
   "id": "16f6fc97-edf8-4966-bfe8-2ded0ae9a26a",
   "metadata": {
    "tags": []
   },
   "outputs": [],
   "source": [
    "ModelImageParameter = image_uris.retrieve(\n",
    "    framework=\"djl-deepspeed\", region=sess.boto_session.region_name, version=\"0.22.1\"\n",
    ")"
   ]
  },
  {
   "cell_type": "code",
   "execution_count": 64,
   "id": "e2334f7b-c935-4444-98cf-f0efec38aa9e",
   "metadata": {},
   "outputs": [],
   "source": [
    "parameters = [\n",
    "    {\n",
    "        'ParameterKey': 'ModelDataS3URLParameter',\n",
    "        'ParameterValue': ModelDataS3URLParameter\n",
    "    },\n",
    "    {\n",
    "        'ParameterKey': 'ModelImageParameter',\n",
    "        'ParameterValue': ModelImageParameter\n",
    "    },\n",
    "    {\n",
    "        'ParameterKey': 'SuccessInvocationTopic',\n",
    "        'ParameterValue': SuccessInvocationTopic\n",
    "    },\n",
    "    {\n",
    "        'ParameterKey': 'FailedInvocationTopic',\n",
    "        'ParameterValue': FailedInvocationTopic\n",
    "    },\n",
    "    {\n",
    "        'ParameterKey': 'AsyncEndpointS3Bucket',\n",
    "        'ParameterValue': BucketName\n",
    "    }\n",
    "]\n",
    "\n",
    "stack_name = 'async-llm-demo-endpoint-creation-stack'\n",
    "\n",
    "template_body = open('endpoint_cfn.yaml').read()\n",
    "\n",
    "response = cloudformation.create_stack(\n",
    "    StackName=stack_name,\n",
    "    TemplateBody=template_body,\n",
    "    Parameters=parameters,\n",
    "    Capabilities=['CAPABILITY_NAMED_IAM']\n",
    ")\n",
    "\n",
    "cloudformation.get_waiter('stack_create_complete').wait(StackName=stack_name)\n",
    "\n",
    "outputs = cloudformation.describe_stacks(StackName=stack_name)['Stacks'][0]['Outputs']\n",
    "\n",
    "for output in outputs:\n",
    "    if output['OutputKey'] == 'SageMakerEndpoint':\n",
    "        SageMakerEndpoint = output['OutputValue']"
   ]
  },
  {
   "cell_type": "markdown",
   "id": "d81f9986-96d1-48af-9ed4-06a9acc06216",
   "metadata": {},
   "source": [
    "Step 3: create a processing job to process the images and invoke the endpoint"
   ]
  },
  {
   "cell_type": "code",
   "execution_count": 46,
   "id": "d277757b-4022-4b6b-b4f8-69a18957c975",
   "metadata": {},
   "outputs": [
    {
     "name": "stdout",
     "output_type": "stream",
     "text": [
      "Overwriting processing.py\n"
     ]
    }
   ],
   "source": [
    "%%writefile processing.py\n",
    "import boto3\n",
    "import json\n",
    "import re\n",
    "import base64\n",
    "import random\n",
    "import string\n",
    "from datetime import datetime\n",
    "import argparse\n",
    "from pyspark.sql import SparkSession\n",
    "\n",
    "def generate_inference_id(length):\n",
    "    chars = string.ascii_letters + string.digits\n",
    "    inference_id = ''.join(random.choice(chars) for _ in range(length))\n",
    "    return inference_id\n",
    "\n",
    "def encode_image(bucket_name, key):\n",
    "    s3 = boto3.client('s3', region_name=AWS_REGION)  \n",
    "    body = s3.get_object(Bucket=bucket_name, Key=key)['Body'].read()\n",
    "    return base64.b64encode(body).decode(\"utf-8\")    \n",
    "  \n",
    "def convert_image_to_payload(prompt, encoded_image):\n",
    "    inputs = {\"prompt\": prompt, \"image\": encoded_image}   \n",
    "    return json.dumps(inputs)\n",
    "\n",
    "def upload_payload_to_s3(bucket_name, key, body):\n",
    "    s3 = boto3.client('s3', region_name=AWS_REGION)  \n",
    "    s3.put_object(Bucket=bucket_name, Key=key, Body=body)\n",
    "    return key\n",
    "\n",
    "def process_image_and_save_to_s3(prompt, file_s3_path, input_s3_prefix):   \n",
    "    # s3 = boto3.client('s3')  \n",
    "    # Use a regex to parse out the bucket name and key\n",
    "    match = re.match(\"s3://(.+?)/(.+)\", file_s3_path)\n",
    "    bucket_name = match.group(1)\n",
    "    key = match.group(2)\n",
    "    # Split the key on '/' to get the file name\n",
    "    path_parts = key.split(\"/\")\n",
    "    file_name = path_parts[-1]    \n",
    "    input_name = file_name.replace('.jpg', '.json') \n",
    "    input_key = input_s3_prefix + '/' + input_name  \n",
    "    encoded_body = convert_image_to_payload(prompt, encode_image(bucket_name, key))\n",
    "    upload_payload_to_s3(bucket_name, input_key, encoded_body)    \n",
    "    return f's3://{bucket_name}/{input_key}'\n",
    "\n",
    "def invoke_endpoint(endpoint_name, input_location):\n",
    "    sagemaker_client = boto3.client('sagemaker-runtime', region_name=AWS_REGION)\n",
    "    response = sagemaker_client.invoke_endpoint_async(\n",
    "        EndpointName = endpoint_name,\n",
    "        InputLocation = input_location,\n",
    "        InferenceId = generate_inference_id(40)     \n",
    "    )\n",
    "    request_time = datetime.strptime(response['ResponseMetadata']['HTTPHeaders']['date'], \"%a, %d %b %Y %H:%M:%S %Z\").strftime(\"%Y-%m-%dT%H:%M:%S.000Z\")\n",
    "    inference_id = response['InferenceId']\n",
    "    output_location = response['OutputLocation']\n",
    "    return inference_id, output_location, request_time\n",
    "\n",
    "def ddb_registration(table_name, prompt, inference_id, endpoint_name, input_location, output_location, request_time):\n",
    "    dynamodb = boto3.resource('dynamodb', region_name=AWS_REGION)\n",
    "    table = dynamodb.Table(table_name)\n",
    "    item = {\n",
    "        'inference_id': inference_id,\n",
    "        'prompt': prompt,\n",
    "        'endpoint_name' : endpoint_name,\n",
    "        'input_location' : input_location, \n",
    "        'output_location' : output_location, \n",
    "        'request_time' : request_time\n",
    "        \n",
    "    }\n",
    "    table.put_item(Item=item)\n",
    "    \n",
    "def execute(file_s3_path):\n",
    "    prompt = PROMPT\n",
    "    input_s3_prefix = INPUT_S3_PREFIX\n",
    "    endpoint_name = ENDPOINT_NAME\n",
    "    table_name = TABLE_NAME   \n",
    "    input_location = process_image_and_save_to_s3(prompt, file_s3_path, input_s3_prefix)\n",
    "    inference_id, output_location, request_time = invoke_endpoint(endpoint_name, input_location)\n",
    "    ddb_registration(table_name, prompt, inference_id, endpoint_name, input_location, output_location, request_time)\n",
    "    \n",
    "if __name__ == \"__main__\":    \n",
    "    \n",
    "    parser = argparse.ArgumentParser(description=\"app configuration\")\n",
    "    parser.add_argument(\"--prompt\", type=str, help=\"prompt for the images\")\n",
    "    parser.add_argument(\"--endpoint_name\", type=str, help=\"async endpoint name\")\n",
    "    parser.add_argument(\"--input_s3_prefix\", type=str, help=\"the prefix of the s3 input for invocation\")\n",
    "    parser.add_argument(\"--s3_path\", type=str, help=\"the s3 path to the raw images\")\n",
    "    parser.add_argument(\"--table_name\", type=str, help=\"DDB table\")\n",
    "    parser.add_argument(\"--aws_region\", type=str, help=\"AWS region\")\n",
    "     \n",
    "    args, _ = parser.parse_known_args()\n",
    "    print(\"Received arguments {}\".format(args))\n",
    "    \n",
    "    PROMPT =  args.prompt\n",
    "    ENDPOINT_NAME = args.endpoint_name\n",
    "    INPUT_S3_PREFIX = args.input_s3_prefix\n",
    "    S3_PATH = args.s3_path\n",
    "    TABLE_NAME = args.table_name \n",
    "    AWS_REGION= args.aws_region\n",
    "    \n",
    "    spark = SparkSession.builder.appName('PySparkApp').getOrCreate()\n",
    "\n",
    "    file_list = spark.sparkContext.wholeTextFiles(S3_PATH).map(lambda x: x[0])\n",
    "    file_list.foreach(execute)\n",
    "\n",
    "    spark.stop()\n"
   ]
  },
  {
   "cell_type": "code",
   "execution_count": null,
   "id": "7838ef31-6dea-4775-a58b-ac032c355254",
   "metadata": {},
   "outputs": [
    {
     "name": "stdout",
     "output_type": "stream",
     "text": [
      "sagemaker.config INFO - Not applying SDK defaults from location: /etc/xdg/sagemaker/config.yaml\n",
      "sagemaker.config INFO - Not applying SDK defaults from location: /root/.config/sagemaker/config.yaml\n",
      "sagemaker.config INFO - Not applying SDK defaults from location: /etc/xdg/sagemaker/config.yaml\n",
      "sagemaker.config INFO - Not applying SDK defaults from location: /root/.config/sagemaker/config.yaml\n"
     ]
    },
    {
     "name": "stderr",
     "output_type": "stream",
     "text": [
      "INFO:sagemaker:Creating processing-job with name sm-spark-2023-11-17-05-23-39-658\n"
     ]
    },
    {
     "name": "stdout",
     "output_type": "stream",
     "text": [
      "."
     ]
    }
   ],
   "source": [
    "timestamp_prefix = strftime(\"%Y-%m-%d-%H-%M-%S\", gmtime())\n",
    "prefix = \"sagemaker/spark-preprocess-demo/{}\".format(timestamp_prefix)\n",
    "\n",
    "ENDPOINT_NAME = re.search(r'.+endpoint/(.+)', SageMakerEndpoint).group(1)\n",
    "PROMPT = 'Question: what can I see in this photo? Answer:'\n",
    "INPUT_S3_PREFIX = 'spark/demo' \n",
    "S3_PATH = 's3://<BUCKET>/images/' ### this is images location\n",
    "TABLE_NAME = AsyncEndpointDDBTable\n",
    "AWS_REGION = sess._region_name\n",
    "role = sagemaker.get_execution_role()\n",
    "\n",
    "# Run the processing job\n",
    "spark_processor = PySparkProcessor(\n",
    "    base_job_name=\"sm-spark\",\n",
    "    framework_version=\"3.1\",\n",
    "    role=role,\n",
    "    instance_count=2,\n",
    "    instance_type=\"ml.m5.xlarge\",\n",
    "    max_runtime_in_seconds=1200,\n",
    ")\n",
    "\n",
    "spark_processor.run(\n",
    "    submit_app=\"processing.py\",\n",
    "    arguments=[\n",
    "        \"--prompt\",\n",
    "        PROMPT,\n",
    "        \"--endpoint_name\",\n",
    "        ENDPOINT_NAME,\n",
    "        \"--input_s3_prefix\",\n",
    "        INPUT_S3_PREFIX,\n",
    "        \"--s3_path\",\n",
    "        S3_PATH,\n",
    "        \"--table_name\",\n",
    "        TABLE_NAME,\n",
    "        \"--aws_region\",\n",
    "        AWS_REGION\n",
    "    ],\n",
    "    spark_event_logs_s3_uri=\"s3://{}/{}/spark_event_logs\".format(BucketName, prefix),\n",
    "    logs=True,\n",
    ")"
   ]
  }
 ],
 "metadata": {
  "availableInstances": [
   {
    "_defaultOrder": 0,
    "_isFastLaunch": true,
    "category": "General purpose",
    "gpuNum": 0,
    "hideHardwareSpecs": false,
    "memoryGiB": 4,
    "name": "ml.t3.medium",
    "vcpuNum": 2
   },
   {
    "_defaultOrder": 1,
    "_isFastLaunch": false,
    "category": "General purpose",
    "gpuNum": 0,
    "hideHardwareSpecs": false,
    "memoryGiB": 8,
    "name": "ml.t3.large",
    "vcpuNum": 2
   },
   {
    "_defaultOrder": 2,
    "_isFastLaunch": false,
    "category": "General purpose",
    "gpuNum": 0,
    "hideHardwareSpecs": false,
    "memoryGiB": 16,
    "name": "ml.t3.xlarge",
    "vcpuNum": 4
   },
   {
    "_defaultOrder": 3,
    "_isFastLaunch": false,
    "category": "General purpose",
    "gpuNum": 0,
    "hideHardwareSpecs": false,
    "memoryGiB": 32,
    "name": "ml.t3.2xlarge",
    "vcpuNum": 8
   },
   {
    "_defaultOrder": 4,
    "_isFastLaunch": true,
    "category": "General purpose",
    "gpuNum": 0,
    "hideHardwareSpecs": false,
    "memoryGiB": 8,
    "name": "ml.m5.large",
    "vcpuNum": 2
   },
   {
    "_defaultOrder": 5,
    "_isFastLaunch": false,
    "category": "General purpose",
    "gpuNum": 0,
    "hideHardwareSpecs": false,
    "memoryGiB": 16,
    "name": "ml.m5.xlarge",
    "vcpuNum": 4
   },
   {
    "_defaultOrder": 6,
    "_isFastLaunch": false,
    "category": "General purpose",
    "gpuNum": 0,
    "hideHardwareSpecs": false,
    "memoryGiB": 32,
    "name": "ml.m5.2xlarge",
    "vcpuNum": 8
   },
   {
    "_defaultOrder": 7,
    "_isFastLaunch": false,
    "category": "General purpose",
    "gpuNum": 0,
    "hideHardwareSpecs": false,
    "memoryGiB": 64,
    "name": "ml.m5.4xlarge",
    "vcpuNum": 16
   },
   {
    "_defaultOrder": 8,
    "_isFastLaunch": false,
    "category": "General purpose",
    "gpuNum": 0,
    "hideHardwareSpecs": false,
    "memoryGiB": 128,
    "name": "ml.m5.8xlarge",
    "vcpuNum": 32
   },
   {
    "_defaultOrder": 9,
    "_isFastLaunch": false,
    "category": "General purpose",
    "gpuNum": 0,
    "hideHardwareSpecs": false,
    "memoryGiB": 192,
    "name": "ml.m5.12xlarge",
    "vcpuNum": 48
   },
   {
    "_defaultOrder": 10,
    "_isFastLaunch": false,
    "category": "General purpose",
    "gpuNum": 0,
    "hideHardwareSpecs": false,
    "memoryGiB": 256,
    "name": "ml.m5.16xlarge",
    "vcpuNum": 64
   },
   {
    "_defaultOrder": 11,
    "_isFastLaunch": false,
    "category": "General purpose",
    "gpuNum": 0,
    "hideHardwareSpecs": false,
    "memoryGiB": 384,
    "name": "ml.m5.24xlarge",
    "vcpuNum": 96
   },
   {
    "_defaultOrder": 12,
    "_isFastLaunch": false,
    "category": "General purpose",
    "gpuNum": 0,
    "hideHardwareSpecs": false,
    "memoryGiB": 8,
    "name": "ml.m5d.large",
    "vcpuNum": 2
   },
   {
    "_defaultOrder": 13,
    "_isFastLaunch": false,
    "category": "General purpose",
    "gpuNum": 0,
    "hideHardwareSpecs": false,
    "memoryGiB": 16,
    "name": "ml.m5d.xlarge",
    "vcpuNum": 4
   },
   {
    "_defaultOrder": 14,
    "_isFastLaunch": false,
    "category": "General purpose",
    "gpuNum": 0,
    "hideHardwareSpecs": false,
    "memoryGiB": 32,
    "name": "ml.m5d.2xlarge",
    "vcpuNum": 8
   },
   {
    "_defaultOrder": 15,
    "_isFastLaunch": false,
    "category": "General purpose",
    "gpuNum": 0,
    "hideHardwareSpecs": false,
    "memoryGiB": 64,
    "name": "ml.m5d.4xlarge",
    "vcpuNum": 16
   },
   {
    "_defaultOrder": 16,
    "_isFastLaunch": false,
    "category": "General purpose",
    "gpuNum": 0,
    "hideHardwareSpecs": false,
    "memoryGiB": 128,
    "name": "ml.m5d.8xlarge",
    "vcpuNum": 32
   },
   {
    "_defaultOrder": 17,
    "_isFastLaunch": false,
    "category": "General purpose",
    "gpuNum": 0,
    "hideHardwareSpecs": false,
    "memoryGiB": 192,
    "name": "ml.m5d.12xlarge",
    "vcpuNum": 48
   },
   {
    "_defaultOrder": 18,
    "_isFastLaunch": false,
    "category": "General purpose",
    "gpuNum": 0,
    "hideHardwareSpecs": false,
    "memoryGiB": 256,
    "name": "ml.m5d.16xlarge",
    "vcpuNum": 64
   },
   {
    "_defaultOrder": 19,
    "_isFastLaunch": false,
    "category": "General purpose",
    "gpuNum": 0,
    "hideHardwareSpecs": false,
    "memoryGiB": 384,
    "name": "ml.m5d.24xlarge",
    "vcpuNum": 96
   },
   {
    "_defaultOrder": 20,
    "_isFastLaunch": false,
    "category": "General purpose",
    "gpuNum": 0,
    "hideHardwareSpecs": true,
    "memoryGiB": 0,
    "name": "ml.geospatial.interactive",
    "supportedImageNames": [
     "sagemaker-geospatial-v1-0"
    ],
    "vcpuNum": 0
   },
   {
    "_defaultOrder": 21,
    "_isFastLaunch": true,
    "category": "Compute optimized",
    "gpuNum": 0,
    "hideHardwareSpecs": false,
    "memoryGiB": 4,
    "name": "ml.c5.large",
    "vcpuNum": 2
   },
   {
    "_defaultOrder": 22,
    "_isFastLaunch": false,
    "category": "Compute optimized",
    "gpuNum": 0,
    "hideHardwareSpecs": false,
    "memoryGiB": 8,
    "name": "ml.c5.xlarge",
    "vcpuNum": 4
   },
   {
    "_defaultOrder": 23,
    "_isFastLaunch": false,
    "category": "Compute optimized",
    "gpuNum": 0,
    "hideHardwareSpecs": false,
    "memoryGiB": 16,
    "name": "ml.c5.2xlarge",
    "vcpuNum": 8
   },
   {
    "_defaultOrder": 24,
    "_isFastLaunch": false,
    "category": "Compute optimized",
    "gpuNum": 0,
    "hideHardwareSpecs": false,
    "memoryGiB": 32,
    "name": "ml.c5.4xlarge",
    "vcpuNum": 16
   },
   {
    "_defaultOrder": 25,
    "_isFastLaunch": false,
    "category": "Compute optimized",
    "gpuNum": 0,
    "hideHardwareSpecs": false,
    "memoryGiB": 72,
    "name": "ml.c5.9xlarge",
    "vcpuNum": 36
   },
   {
    "_defaultOrder": 26,
    "_isFastLaunch": false,
    "category": "Compute optimized",
    "gpuNum": 0,
    "hideHardwareSpecs": false,
    "memoryGiB": 96,
    "name": "ml.c5.12xlarge",
    "vcpuNum": 48
   },
   {
    "_defaultOrder": 27,
    "_isFastLaunch": false,
    "category": "Compute optimized",
    "gpuNum": 0,
    "hideHardwareSpecs": false,
    "memoryGiB": 144,
    "name": "ml.c5.18xlarge",
    "vcpuNum": 72
   },
   {
    "_defaultOrder": 28,
    "_isFastLaunch": false,
    "category": "Compute optimized",
    "gpuNum": 0,
    "hideHardwareSpecs": false,
    "memoryGiB": 192,
    "name": "ml.c5.24xlarge",
    "vcpuNum": 96
   },
   {
    "_defaultOrder": 29,
    "_isFastLaunch": true,
    "category": "Accelerated computing",
    "gpuNum": 1,
    "hideHardwareSpecs": false,
    "memoryGiB": 16,
    "name": "ml.g4dn.xlarge",
    "vcpuNum": 4
   },
   {
    "_defaultOrder": 30,
    "_isFastLaunch": false,
    "category": "Accelerated computing",
    "gpuNum": 1,
    "hideHardwareSpecs": false,
    "memoryGiB": 32,
    "name": "ml.g4dn.2xlarge",
    "vcpuNum": 8
   },
   {
    "_defaultOrder": 31,
    "_isFastLaunch": false,
    "category": "Accelerated computing",
    "gpuNum": 1,
    "hideHardwareSpecs": false,
    "memoryGiB": 64,
    "name": "ml.g4dn.4xlarge",
    "vcpuNum": 16
   },
   {
    "_defaultOrder": 32,
    "_isFastLaunch": false,
    "category": "Accelerated computing",
    "gpuNum": 1,
    "hideHardwareSpecs": false,
    "memoryGiB": 128,
    "name": "ml.g4dn.8xlarge",
    "vcpuNum": 32
   },
   {
    "_defaultOrder": 33,
    "_isFastLaunch": false,
    "category": "Accelerated computing",
    "gpuNum": 4,
    "hideHardwareSpecs": false,
    "memoryGiB": 192,
    "name": "ml.g4dn.12xlarge",
    "vcpuNum": 48
   },
   {
    "_defaultOrder": 34,
    "_isFastLaunch": false,
    "category": "Accelerated computing",
    "gpuNum": 1,
    "hideHardwareSpecs": false,
    "memoryGiB": 256,
    "name": "ml.g4dn.16xlarge",
    "vcpuNum": 64
   },
   {
    "_defaultOrder": 35,
    "_isFastLaunch": false,
    "category": "Accelerated computing",
    "gpuNum": 1,
    "hideHardwareSpecs": false,
    "memoryGiB": 61,
    "name": "ml.p3.2xlarge",
    "vcpuNum": 8
   },
   {
    "_defaultOrder": 36,
    "_isFastLaunch": false,
    "category": "Accelerated computing",
    "gpuNum": 4,
    "hideHardwareSpecs": false,
    "memoryGiB": 244,
    "name": "ml.p3.8xlarge",
    "vcpuNum": 32
   },
   {
    "_defaultOrder": 37,
    "_isFastLaunch": false,
    "category": "Accelerated computing",
    "gpuNum": 8,
    "hideHardwareSpecs": false,
    "memoryGiB": 488,
    "name": "ml.p3.16xlarge",
    "vcpuNum": 64
   },
   {
    "_defaultOrder": 38,
    "_isFastLaunch": false,
    "category": "Accelerated computing",
    "gpuNum": 8,
    "hideHardwareSpecs": false,
    "memoryGiB": 768,
    "name": "ml.p3dn.24xlarge",
    "vcpuNum": 96
   },
   {
    "_defaultOrder": 39,
    "_isFastLaunch": false,
    "category": "Memory Optimized",
    "gpuNum": 0,
    "hideHardwareSpecs": false,
    "memoryGiB": 16,
    "name": "ml.r5.large",
    "vcpuNum": 2
   },
   {
    "_defaultOrder": 40,
    "_isFastLaunch": false,
    "category": "Memory Optimized",
    "gpuNum": 0,
    "hideHardwareSpecs": false,
    "memoryGiB": 32,
    "name": "ml.r5.xlarge",
    "vcpuNum": 4
   },
   {
    "_defaultOrder": 41,
    "_isFastLaunch": false,
    "category": "Memory Optimized",
    "gpuNum": 0,
    "hideHardwareSpecs": false,
    "memoryGiB": 64,
    "name": "ml.r5.2xlarge",
    "vcpuNum": 8
   },
   {
    "_defaultOrder": 42,
    "_isFastLaunch": false,
    "category": "Memory Optimized",
    "gpuNum": 0,
    "hideHardwareSpecs": false,
    "memoryGiB": 128,
    "name": "ml.r5.4xlarge",
    "vcpuNum": 16
   },
   {
    "_defaultOrder": 43,
    "_isFastLaunch": false,
    "category": "Memory Optimized",
    "gpuNum": 0,
    "hideHardwareSpecs": false,
    "memoryGiB": 256,
    "name": "ml.r5.8xlarge",
    "vcpuNum": 32
   },
   {
    "_defaultOrder": 44,
    "_isFastLaunch": false,
    "category": "Memory Optimized",
    "gpuNum": 0,
    "hideHardwareSpecs": false,
    "memoryGiB": 384,
    "name": "ml.r5.12xlarge",
    "vcpuNum": 48
   },
   {
    "_defaultOrder": 45,
    "_isFastLaunch": false,
    "category": "Memory Optimized",
    "gpuNum": 0,
    "hideHardwareSpecs": false,
    "memoryGiB": 512,
    "name": "ml.r5.16xlarge",
    "vcpuNum": 64
   },
   {
    "_defaultOrder": 46,
    "_isFastLaunch": false,
    "category": "Memory Optimized",
    "gpuNum": 0,
    "hideHardwareSpecs": false,
    "memoryGiB": 768,
    "name": "ml.r5.24xlarge",
    "vcpuNum": 96
   },
   {
    "_defaultOrder": 47,
    "_isFastLaunch": false,
    "category": "Accelerated computing",
    "gpuNum": 1,
    "hideHardwareSpecs": false,
    "memoryGiB": 16,
    "name": "ml.g5.xlarge",
    "vcpuNum": 4
   },
   {
    "_defaultOrder": 48,
    "_isFastLaunch": false,
    "category": "Accelerated computing",
    "gpuNum": 1,
    "hideHardwareSpecs": false,
    "memoryGiB": 32,
    "name": "ml.g5.2xlarge",
    "vcpuNum": 8
   },
   {
    "_defaultOrder": 49,
    "_isFastLaunch": false,
    "category": "Accelerated computing",
    "gpuNum": 1,
    "hideHardwareSpecs": false,
    "memoryGiB": 64,
    "name": "ml.g5.4xlarge",
    "vcpuNum": 16
   },
   {
    "_defaultOrder": 50,
    "_isFastLaunch": false,
    "category": "Accelerated computing",
    "gpuNum": 1,
    "hideHardwareSpecs": false,
    "memoryGiB": 128,
    "name": "ml.g5.8xlarge",
    "vcpuNum": 32
   },
   {
    "_defaultOrder": 51,
    "_isFastLaunch": false,
    "category": "Accelerated computing",
    "gpuNum": 1,
    "hideHardwareSpecs": false,
    "memoryGiB": 256,
    "name": "ml.g5.16xlarge",
    "vcpuNum": 64
   },
   {
    "_defaultOrder": 52,
    "_isFastLaunch": false,
    "category": "Accelerated computing",
    "gpuNum": 4,
    "hideHardwareSpecs": false,
    "memoryGiB": 192,
    "name": "ml.g5.12xlarge",
    "vcpuNum": 48
   },
   {
    "_defaultOrder": 53,
    "_isFastLaunch": false,
    "category": "Accelerated computing",
    "gpuNum": 4,
    "hideHardwareSpecs": false,
    "memoryGiB": 384,
    "name": "ml.g5.24xlarge",
    "vcpuNum": 96
   },
   {
    "_defaultOrder": 54,
    "_isFastLaunch": false,
    "category": "Accelerated computing",
    "gpuNum": 8,
    "hideHardwareSpecs": false,
    "memoryGiB": 768,
    "name": "ml.g5.48xlarge",
    "vcpuNum": 192
   },
   {
    "_defaultOrder": 55,
    "_isFastLaunch": false,
    "category": "Accelerated computing",
    "gpuNum": 8,
    "hideHardwareSpecs": false,
    "memoryGiB": 1152,
    "name": "ml.p4d.24xlarge",
    "vcpuNum": 96
   },
   {
    "_defaultOrder": 56,
    "_isFastLaunch": false,
    "category": "Accelerated computing",
    "gpuNum": 8,
    "hideHardwareSpecs": false,
    "memoryGiB": 1152,
    "name": "ml.p4de.24xlarge",
    "vcpuNum": 96
   }
  ],
  "instance_type": "ml.t3.medium",
  "kernelspec": {
   "display_name": "Python 3 (Data Science 3.0)",
   "language": "python",
   "name": "python3__SAGEMAKER_INTERNAL__arn:aws:sagemaker:us-west-2:236514542706:image/sagemaker-data-science-310-v1"
  },
  "language_info": {
   "codemirror_mode": {
    "name": "ipython",
    "version": 3
   },
   "file_extension": ".py",
   "mimetype": "text/x-python",
   "name": "python",
   "nbconvert_exporter": "python",
   "pygments_lexer": "ipython3",
   "version": "3.10.6"
  }
 },
 "nbformat": 4,
 "nbformat_minor": 5
}
