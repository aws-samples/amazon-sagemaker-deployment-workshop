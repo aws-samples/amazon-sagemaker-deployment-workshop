{
 "cells": [
  {
   "cell_type": "markdown",
   "id": "2c00f4b5-2e2a-4001-a75b-db900a180f3b",
   "metadata": {},
   "source": [
    "# Deploy Hugging Face transformer models with multi-model endpoints \n",
    "\n",
    "This notebook is a step-by-step tutorial on deploying multiple pre-trained PyTorch Hugging Face model with multi-model endpoint on Amazon SageMaker. \n",
    "\n",
    "We will describe the steps for deploying a multi-model endpoint on Amazon SageMaker with TorchServe serving stack. An additional step compared to single model deployment is the requirement to create a manifest file for each model prior to deployment. For training Hugging Face models on SageMaker, refer the examples [here](https://github.com/huggingface/notebooks/tree/master/sagemaker)"
   ]
  },
  {
   "cell_type": "code",
   "execution_count": null,
   "id": "a1092eb5-7116-4619-8e78-7e9833f285b3",
   "metadata": {},
   "outputs": [],
   "source": [
    "import sagemaker\n",
    "from sagemaker import get_execution_role\n",
    "from sagemaker.utils import name_from_base\n",
    "from sagemaker.pytorch import PyTorchModel\n",
    "import boto3\n",
    "import torch\n",
    "import time\n",
    "import pandas as pd\n",
    "from pathlib import Path\n",
    "import tarfile\n",
    "import shutil \n",
    "import datetime\n",
    "\n",
    "role = get_execution_role()\n",
    "region = boto3.Session().region_name\n",
    "session = sagemaker.Session()\n",
    "bucket = session.default_bucket()\n",
    "sm_client = boto3.client(\"sagemaker\", region)\n",
    "s3_client = boto3.client('s3')\n",
    "prefix = \"sagemaker/huggingface-pytorch-sentiment-analysis\""
   ]
  },
  {
   "cell_type": "code",
   "execution_count": null,
   "id": "8f8b211b-2aee-45f7-ae96-12c2ff2fbc5e",
   "metadata": {},
   "outputs": [],
   "source": [
    "%store\n",
    "%store -r"
   ]
  },
  {
   "cell_type": "code",
   "execution_count": null,
   "id": "9bd6cc57-49aa-40c7-bdd2-9def40e7bd30",
   "metadata": {},
   "outputs": [],
   "source": [
    "try:\n",
    "    describe_model_package_group_response = sm_client.describe_model_package_group(\n",
    "        ModelPackageGroupName=model_package_group_name\n",
    "    )\n",
    "    print(describe_model_package_group_response)\n",
    "except:\n",
    "    print(f\"model package group {model_package_group_name} does not exist\")"
   ]
  },
  {
   "cell_type": "markdown",
   "id": "4b5743d3-1f1a-457b-80fb-f758607d7b9c",
   "metadata": {},
   "source": [
    "### Register a new model version for Hugging Face roberta model with entry point script helper function\n",
    "we will firstly download the roberta model file and prepare the model with inference script to be used in the endpoint."
   ]
  },
  {
   "cell_type": "code",
   "execution_count": null,
   "id": "3788dfd4-e349-4a21-a521-0d225db9bd09",
   "metadata": {},
   "outputs": [],
   "source": [
    "local_artifact_path = Path(\"model_artifacts\")\n",
    "local_artifact_path.mkdir(exist_ok=True, parents=True)\n",
    "model_tar_name = 'model_roberta_update.tar.gz'"
   ]
  },
  {
   "cell_type": "code",
   "execution_count": null,
   "id": "9899d5fe-424d-4371-812e-5fd7d32c3364",
   "metadata": {},
   "outputs": [],
   "source": [
    "s3_client.download_file(bucket, '/'.join(model_roberta_uri.split('/')[3:]), model_roberta_uri.split('/')[-1])"
   ]
  },
  {
   "cell_type": "code",
   "execution_count": null,
   "id": "83aeb060-bcff-4b9c-aaa1-c3371c162598",
   "metadata": {},
   "outputs": [],
   "source": [
    "with tarfile.open(model_tar_name) as tar:\n",
    "    tar.extractall(path=local_artifact_path.stem)"
   ]
  },
  {
   "cell_type": "code",
   "execution_count": null,
   "id": "20228089-bbb5-49a6-b11e-8e70598f4e6b",
   "metadata": {},
   "outputs": [],
   "source": [
    "shutil.copytree('../code', local_artifact_path / 'code') "
   ]
  },
  {
   "cell_type": "code",
   "execution_count": null,
   "id": "c2915503-2457-49c6-a962-250d087241fb",
   "metadata": {},
   "outputs": [],
   "source": [
    "def create_tar(tarfile_name: str, local_path: Path):\n",
    "    \"\"\"\n",
    "    Create a tar.gz archive with the content of `local_path`.\n",
    "    \"\"\"\n",
    "    with tarfile.open(tarfile_name, mode=\"w:gz\") as archive:\n",
    "        [\n",
    "            archive.add(k, arcname=f\"{k.relative_to(local_path)}\")\n",
    "            for k in local_path.glob(\"**/*.*\")\n",
    "            if f\"{k.relative_to(local_path)}\"[0] != \".\"\n",
    "        ]\n",
    "    tar_size = Path(tarfile_name).stat().st_size / 10**6\n",
    "    return tar_size"
   ]
  },
  {
   "cell_type": "code",
   "execution_count": null,
   "id": "a068f177-e38f-4a33-9bf2-5620d51908a1",
   "metadata": {},
   "outputs": [],
   "source": [
    "tar_size = create_tar(model_tar_name, local_artifact_path)\n",
    "print(f\"Created {model_tar_name}, size {tar_size:.2f} MB\")"
   ]
  },
  {
   "cell_type": "code",
   "execution_count": null,
   "id": "f5bb6ab6-fd6f-4f00-be22-6a1dfa1b7464",
   "metadata": {},
   "outputs": [],
   "source": [
    "from sagemaker.s3 import S3Uploader,s3_path_join\n",
    "model_data_path = s3_path_join(\"s3://\",bucket,prefix+\"/models\")\n",
    "model_roberta_uri =S3Uploader.upload(model_tar_name, model_data_path)\n",
    "print(f\"Uploaded roberta model to {model_roberta_uri}\")"
   ]
  },
  {
   "cell_type": "code",
   "execution_count": null,
   "id": "2feb72cb-f5f9-4b4e-81bc-ae5c9120a9c0",
   "metadata": {},
   "outputs": [],
   "source": [
    "list_model_packages_response = sm_client.list_model_packages(\n",
    "    ModelPackageGroupName=model_package_group_name\n",
    ")\n",
    "list_model_packages_response"
   ]
  },
  {
   "cell_type": "code",
   "execution_count": null,
   "id": "eb4ae438-c36a-40d8-81fa-5f58c19696bf",
   "metadata": {},
   "outputs": [],
   "source": [
    "roberta_model_version_arn = [x['ModelPackageArn'] for x in list_model_packages_response['ModelPackageSummaryList'] if \"roberta\" in x['ModelPackageDescription'].lower()]"
   ]
  },
  {
   "cell_type": "code",
   "execution_count": null,
   "id": "44495d63-7bc3-4576-87d7-ff285c2b417d",
   "metadata": {},
   "outputs": [],
   "source": [
    "describe_model_package_response = sm_client.describe_model_package(\n",
    "    ModelPackageName=roberta_model_version_arn[0]\n",
    ")\n",
    "describe_model_package_response"
   ]
  },
  {
   "cell_type": "code",
   "execution_count": null,
   "id": "39c0063f-791c-40d2-8580-53b0eaa10464",
   "metadata": {},
   "outputs": [],
   "source": [
    "model_package_response = sm_client.create_model_package(\n",
    "    ModelPackageGroupName=str(model_package_group_name),\n",
    "    ModelPackageDescription=f\"Hugging Face Roberta Model MME - sentiment analysis\",\n",
    "    Domain=describe_model_package_response['Domain'],\n",
    "    Task=describe_model_package_response['Task'],\n",
    "    InferenceSpecification={\n",
    "        \"Containers\": [\n",
    "            {\n",
    "                \"ContainerHostname\": \"huggingface-pytorch-roberta-update\",\n",
    "                \"Image\": describe_model_package_response['InferenceSpecification']['Containers'][0]['Image'],\n",
    "                \"ModelDataUrl\": model_roberta_uri,\n",
    "                \"Framework\": describe_model_package_response['InferenceSpecification']['Containers'][0]['Framework'],\n",
    "                \"NearestModelName\": describe_model_package_response['InferenceSpecification']['Containers'][0]['NearestModelName'],\n",
    "                \"Environment\": {\n",
    "                    \"SAGEMAKER_CONTAINER_LOG_LEVEL\": describe_model_package_response['InferenceSpecification']['Containers'][0]['Environment']['SAGEMAKER_CONTAINER_LOG_LEVEL'],\n",
    "                    \"SAGEMAKER_PROGRAM\": \"inference.py\",\n",
    "                    \"SAGEMAKER_REGION\": region,\n",
    "                    \"SAGEMAKER_SUBMIT_DIRECTORY\": model_roberta_uri,\n",
    "                    \"HF_TASK\": describe_model_package_response['InferenceSpecification']['Containers'][0]['Environment']['HF_TASK'],\n",
    "                },\n",
    "            },\n",
    "        ],\n",
    "        \"SupportedRealtimeInferenceInstanceTypes\": describe_model_package_response['InferenceSpecification']['SupportedRealtimeInferenceInstanceTypes'],\n",
    "        \"SupportedContentTypes\": [\"text/csv\"],\n",
    "        \"SupportedResponseMIMETypes\": [\"application/json\"],\n",
    "    },\n",
    ")"
   ]
  },
  {
   "cell_type": "code",
   "execution_count": null,
   "id": "3931c5d2-4cfc-46af-a10a-fa129f6d280c",
   "metadata": {},
   "outputs": [],
   "source": [
    "list_model_packages_response = sm_client.list_model_packages(\n",
    "    ModelPackageGroupName=model_package_group_name\n",
    ")\n",
    "list_model_packages_response"
   ]
  },
  {
   "cell_type": "code",
   "execution_count": null,
   "id": "3aa6b155-6e41-42c2-af56-9e583190e7f3",
   "metadata": {},
   "outputs": [],
   "source": [
    "roberta_model_version_arn = list_model_packages_response[\"ModelPackageSummaryList\"][0][\"ModelPackageArn\"]\n",
    "print(\"roberta model: {}\".format(roberta_model_version_arn))\n",
    "distilbert_model_version_arn = list_model_packages_response[\"ModelPackageSummaryList\"][1][\"ModelPackageArn\"]\n",
    "print(\"distilbert model: {}\".format(distilbert_model_version_arn))"
   ]
  },
  {
   "cell_type": "code",
   "execution_count": null,
   "id": "543e98aa-5d84-4664-97f3-9b5fc22ae49e",
   "metadata": {},
   "outputs": [],
   "source": [
    "model_package_update_input_dict = {\n",
    "    \"ModelPackageArn\": roberta_model_version_arn,\n",
    "    \"ModelApprovalStatus\": \"Approved\",\n",
    "}\n",
    "model_package_update_response = sm_client.update_model_package(**model_package_update_input_dict)\n",
    "model_package_update_response"
   ]
  },
  {
   "cell_type": "code",
   "execution_count": null,
   "id": "4953ccc3-cbcd-4dd4-93dd-6bb15561b02e",
   "metadata": {},
   "outputs": [],
   "source": [
    "roberta_update_model_name = \"hf-pytorch-model-roberta-update-\" + datetime.datetime.now().strftime(\"%Y-%m-%d-%H-%M-%S\")\n",
    "print(\"Model name : {}\".format(roberta_update_model_name))\n",
    "%store roberta_update_model_name"
   ]
  },
  {
   "cell_type": "code",
   "execution_count": null,
   "id": "0cf93201-3f41-49bb-b0e2-3b5d3b9f51a4",
   "metadata": {},
   "outputs": [],
   "source": [
    "primary_container_roberta = {\n",
    "    \"ModelPackageName\": roberta_model_version_arn,\n",
    "}\n",
    "\n",
    "create_model_roberta_respose = sm_client.create_model(\n",
    "    ModelName=roberta_update_model_name, \n",
    "    ExecutionRoleArn=role, \n",
    "    PrimaryContainer=primary_container_roberta\n",
    ")\n",
    "\n",
    "print(\"Model arn : {}\".format(create_model_roberta_respose[\"ModelArn\"]))"
   ]
  },
  {
   "cell_type": "code",
   "execution_count": null,
   "id": "6adb2349-3eef-44ac-94af-58e1fcd4dc08",
   "metadata": {},
   "outputs": [],
   "source": [
    "%store roberta_update_model_name"
   ]
  },
  {
   "cell_type": "code",
   "execution_count": null,
   "id": "fefca41c-27cf-41e2-9cfd-90fd411cff2e",
   "metadata": {},
   "outputs": [],
   "source": [
    "image_uri = describe_model_package_response['InferenceSpecification']['Containers'][0]['Image']\n",
    "image_uri "
   ]
  },
  {
   "cell_type": "code",
   "execution_count": null,
   "id": "a0549e8b-efad-4c37-bfce-95012ad2af80",
   "metadata": {},
   "outputs": [],
   "source": [
    "deploy_instance_type = describe_model_package_response['InferenceSpecification']['SupportedRealtimeInferenceInstanceTypes'][1]"
   ]
  },
  {
   "cell_type": "code",
   "execution_count": null,
   "id": "6afdb3ab-07f1-4109-b1a2-64fd295e879a",
   "metadata": {},
   "outputs": [],
   "source": [
    "from sagemaker.model import Model\n",
    "from sagemaker.multidatamodel import MultiDataModel\n",
    "import time\n",
    "\n",
    "dummy_model = Model(name = 'dummy_model_pt',\n",
    "                    image_uri = image_uri,\n",
    "                    role = role,\n",
    "                    model_data = '')\n",
    "\n",
    "multi_model = MultiDataModel(name              = 'pytorch-multi-model-senti-' + time.strftime(\"%Y-%m-%d-%H-%M-%S\", time.gmtime()),\n",
    "                             model             = dummy_model,\n",
    "                             model_data_prefix = model_data_path)\n",
    "\n",
    "endpoint_name = 'hf-pytorch-multimodel-senti-endpoint-' + time.strftime(\"%Y-%m-%d-%H-%M-%S\", time.gmtime())\n",
    "\n",
    "predictor = multi_model.deploy(instance_type=deploy_instance_type,\n",
    "                               initial_instance_count=1,\n",
    "                               endpoint_name = endpoint_name)"
   ]
  },
  {
   "cell_type": "code",
   "execution_count": null,
   "id": "15540998-ad1d-4224-b60a-b9b610873658",
   "metadata": {},
   "outputs": [],
   "source": [
    "# from sagemaker.predictor import Predictor\n",
    "# from sagemaker.serializers import CSVSerializer, JSONSerializer\n",
    "# from sagemaker.deserializers import JSONDeserializer\n",
    "# pred = Predictor(endpoint_name)\n",
    "# pred.serializer = sagemaker.serializers.CSVSerializer()\n",
    "# pred.deserializer = sagemaker.deserializers.JSONDeserializer()\n",
    "# pred1.predict(test_data.to_csv(header=False, index=False),target_model=model_archive)"
   ]
  },
  {
   "cell_type": "code",
   "execution_count": null,
   "id": "0b8584aa-1078-453f-864c-6b0de1677fb2",
   "metadata": {},
   "outputs": [],
   "source": [
    "test_data = pd.read_csv(\"../sample_payload/test_data.csv\", header=None)\n",
    "test_data"
   ]
  },
  {
   "cell_type": "code",
   "execution_count": null,
   "id": "cdede548-a1d2-441c-928c-d95cc6fb6631",
   "metadata": {},
   "outputs": [],
   "source": [
    "sm_runtime = boto3.client(\"sagemaker-runtime\")"
   ]
  },
  {
   "cell_type": "code",
   "execution_count": null,
   "id": "926b7145-39da-4f6c-b191-79754e2e3d96",
   "metadata": {},
   "outputs": [],
   "source": [
    "%%time\n",
    "model_archive = '/model_roberta_update.tar.gz'\n",
    "response = sm_runtime.invoke_endpoint(\n",
    "    EndpointName=endpoint_name,\n",
    "    Body=test_data.to_csv(header=False, index=False),\n",
    "    ContentType=\"text/csv\",\n",
    "    TargetModel=model_archive,\n",
    ")\n",
    "\n",
    "print(response[\"Body\"].read())"
   ]
  },
  {
   "cell_type": "code",
   "execution_count": null,
   "id": "87c7dd77-d2ef-4fbf-8887-ba47a82bf338",
   "metadata": {},
   "outputs": [],
   "source": [
    "%%time\n",
    "model_archive = '/model_distilbert.tar.gz'\n",
    "response = sm_runtime.invoke_endpoint(\n",
    "    EndpointName=endpoint_name,\n",
    "    Body=test_data.to_csv(header=False, index=False),\n",
    "    ContentType=\"text/csv\",\n",
    "    TargetModel=model_archive,\n",
    ")\n",
    "\n",
    "print(response[\"Body\"].read())"
   ]
  },
  {
   "cell_type": "code",
   "execution_count": null,
   "id": "ee5363f6-34e3-49fc-84f1-d3ad0a0826e8",
   "metadata": {},
   "outputs": [],
   "source": []
  },
  {
   "cell_type": "code",
   "execution_count": null,
   "id": "60f825e5-3a7c-4f12-9660-f80b3a249be9",
   "metadata": {},
   "outputs": [],
   "source": []
  }
 ],
 "metadata": {
  "instance_type": "ml.t3.medium",
  "kernelspec": {
   "display_name": "Python 3 (PyTorch 1.8 Python 3.6 CPU Optimized)",
   "language": "python",
   "name": "python3__SAGEMAKER_INTERNAL__arn:aws:sagemaker:us-east-1:081325390199:image/1.8.1-cpu-py36"
  },
  "language_info": {
   "codemirror_mode": {
    "name": "ipython",
    "version": 3
   },
   "file_extension": ".py",
   "mimetype": "text/x-python",
   "name": "python",
   "nbconvert_exporter": "python",
   "pygments_lexer": "ipython3",
   "version": "3.6.13"
  }
 },
 "nbformat": 4,
 "nbformat_minor": 5
}
